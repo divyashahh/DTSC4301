{
 "cells": [
  {
   "cell_type": "code",
   "execution_count": 8,
   "id": "a1b440e6",
   "metadata": {},
   "outputs": [
    {
     "name": "stdout",
     "output_type": "stream",
     "text": [
      "DOI                        0\n",
      "Sample_ID                  0\n",
      "Subsample_ID             473\n",
      "Location                 149\n",
      "Countries                149\n",
      "                        ... \n",
      "Size_1_5um               597\n",
      "Size_110_124nm           607\n",
      "Size_0_20um              606\n",
      "Approximate_Latitude     155\n",
      "Approximate_Longitude    155\n",
      "Length: 115, dtype: int64\n"
     ]
    }
   ],
   "source": [
    "import pandas as pd\n",
    "\n",
    "df = pd.read_csv(\"samples_geocoded.csv\")\n",
    "\n",
    "null_counts = df.isnull().sum()\n",
    "print(null_counts)"
   ]
  }
 ],
 "metadata": {
  "kernelspec": {
   "display_name": "Python 3 (ipykernel)",
   "language": "python",
   "name": "python3"
  },
  "language_info": {
   "codemirror_mode": {
    "name": "ipython",
    "version": 3
   },
   "file_extension": ".py",
   "mimetype": "text/x-python",
   "name": "python",
   "nbconvert_exporter": "python",
   "pygments_lexer": "ipython3",
   "version": "3.11.7"
  }
 },
 "nbformat": 4,
 "nbformat_minor": 5
}
